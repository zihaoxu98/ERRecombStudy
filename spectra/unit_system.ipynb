{
 "cells": [
  {
   "cell_type": "code",
   "execution_count": 1,
   "id": "874bfdc9-a10c-4c4e-91ad-eea61da8addf",
   "metadata": {},
   "outputs": [],
   "source": [
    "import usys\n",
    "import numpy as np"
   ]
  },
  {
   "cell_type": "code",
   "execution_count": 2,
   "id": "db8918ac-c463-4a9b-93b9-d6383f2fc612",
   "metadata": {},
   "outputs": [],
   "source": [
    "m = 1.67262192e-27 * usys.kg"
   ]
  },
  {
   "cell_type": "code",
   "execution_count": 3,
   "id": "82eb5f87-2be8-4334-9346-6a8d1cb30ba4",
   "metadata": {},
   "outputs": [
    {
     "data": {
      "text/plain": [
       "array([DimensionalNumberBase(1.67262192e-27 x [MASS]^1.0),\n",
       "       DimensionalNumberBase(1.67262192e-27 x [MASS]^1.0),\n",
       "       DimensionalNumberBase(1.67262192e-27 x [MASS]^1.0),\n",
       "       DimensionalNumberBase(1.67262192e-27 x [MASS]^1.0),\n",
       "       DimensionalNumberBase(1.67262192e-27 x [MASS]^1.0)], dtype=object)"
      ]
     },
     "execution_count": 3,
     "metadata": {},
     "output_type": "execute_result"
    }
   ],
   "source": [
    "m * np.ones(5)"
   ]
  },
  {
   "cell_type": "code",
   "execution_count": null,
   "id": "b499e460-3c35-4638-9c6b-e3c8513403c6",
   "metadata": {},
   "outputs": [],
   "source": []
  }
 ],
 "metadata": {
  "kernelspec": {
   "display_name": "Python [conda env:XENONnT_development] *",
   "language": "python",
   "name": "conda-env-XENONnT_development-py"
  },
  "language_info": {
   "codemirror_mode": {
    "name": "ipython",
    "version": 3
   },
   "file_extension": ".py",
   "mimetype": "text/x-python",
   "name": "python",
   "nbconvert_exporter": "python",
   "pygments_lexer": "ipython3",
   "version": "3.9.16"
  }
 },
 "nbformat": 4,
 "nbformat_minor": 5
}
