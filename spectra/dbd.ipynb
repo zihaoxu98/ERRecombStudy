{
 "cells": [
  {
   "cell_type": "code",
   "execution_count": 1,
   "id": "bd25af44-c608-4add-863d-b85bd49a3a11",
   "metadata": {},
   "outputs": [],
   "source": [
    "import numpy as np\n",
    "import re\n",
    "import pandas as pd\n",
    "import matplotlib.pyplot as plt\n",
    "\n",
    "from scipy.interpolate import interp1d\n",
    "from copy import deepcopy\n",
    "from tqdm import tqdm"
   ]
  },
  {
   "cell_type": "code",
   "execution_count": 2,
   "id": "564fdf0b-2fa9-4189-83c4-0f3633c4c6b1",
   "metadata": {},
   "outputs": [
    {
     "name": "stderr",
     "output_type": "stream",
     "text": [
      "100%|█████████████████████████████████████████████████████████████████████████████████████████████████████████████████████████████████████████████████████████████| 3017195/3017195 [00:08<00:00, 356285.17it/s]\n"
     ]
    }
   ],
   "source": [
    "file = './data/136Xe_hsd_2ds.txt'\n",
    "energy_threshold = 30\n",
    "\n",
    "with open(file, 'r') as file:\n",
    "    lines = file.readlines()\n",
    "    extracted_data = [np.array(re.sub(' +', ' ', line).split(' ')[-3:], dtype=float) for line in tqdm(lines)]\n",
    "\n",
    "spectrum = pd.DataFrame(np.array(extracted_data, dtype=float), columns=['e1KinE', 'e2KinE', 'P'])\n",
    "spectrum['sum_KinE'] = spectrum['e1KinE'] + spectrum['e2KinE']\n",
    "\n",
    "mask = (spectrum['sum_KinE'] * 1e3) < energy_threshold\n",
    "spectrum = spectrum[mask]\n",
    "\n",
    "spectrum['sum_KinE'] = np.round(spectrum['sum_KinE'] * 1e3)"
   ]
  },
  {
   "cell_type": "code",
   "execution_count": 4,
   "id": "b938db46-9d0e-458d-8a56-e7eaca2ff260",
   "metadata": {},
   "outputs": [
    {
     "data": {
      "text/plain": [
       "array([ 3.,  4.,  5.,  6.,  7.,  8.,  9., 10., 11., 12., 13., 14., 15.,\n",
       "       16., 17., 18., 19., 20., 21., 22., 23., 24., 25., 26., 27., 28.,\n",
       "       29.])"
      ]
     },
     "execution_count": 4,
     "metadata": {},
     "output_type": "execute_result"
    }
   ],
   "source": [
    "spectrum['sum_KinE'].unique()"
   ]
  },
  {
   "cell_type": "code",
   "execution_count": 5,
   "id": "98324c4e-f44d-498f-8a7b-ce40a31fdfc1",
   "metadata": {},
   "outputs": [
    {
     "name": "stderr",
     "output_type": "stream",
     "text": [
      "100%|███████████████████████████████████████████████████████████████████████████████████████████████████████████████████████████████████████████████████████████████████| 2457/2457 [00:00<00:00, 141986.84it/s]\n"
     ]
    }
   ],
   "source": [
    "file = './data/136Xe_hsd_cor.txt'\n",
    "energy_threshold = 30\n",
    "\n",
    "with open(file, 'r') as file:\n",
    "    lines = file.readlines()\n",
    "    extracted_data = [np.array(re.sub(' +', ' ', line).split(' ')[-2:], dtype=float) for line in tqdm(lines)]\n",
    "\n",
    "angcor = pd.DataFrame(np.array(extracted_data, dtype=float), columns=['e1KinE', 'angle'])\n",
    "angcor['e1KinE'] = angcor['e1KinE'] * 1e3\n",
    "ang = interp1d(angcor['e1KinE'], angcor['angle'])"
   ]
  },
  {
   "cell_type": "code",
   "execution_count": 6,
   "id": "cad6374c-eb3e-4dc2-a714-24f055c7a756",
   "metadata": {},
   "outputs": [],
   "source": [
    "def simulate(energy, size=int(1e4)):\n",
    "    phase_space = deepcopy(spectrum[spectrum['sum_KinE'] == energy])\n",
    "    phase_space['P'] = phase_space['P'] / phase_space['P'].sum()\n",
    "    \n",
    "    ind = np.random.choice(np.arange(len(phase_space)), p=phase_space['P'], size=size)\n",
    "    sample = phase_space[['e1KinE', 'e2KinE']].iloc[ind]\n",
    "    E1 = sample['e1KinE'].to_numpy() * 1e3\n",
    "    E2 = sample['e2KinE'].to_numpy() * 1e3\n",
    "    \n",
    "    phi = 2 * np.pi * np.random.rand(size)\n",
    "    a = ang(E1)\n",
    "    cos = (-1 + np.sqrt(a**2 - 2 * a + 1 + 4 * a * np.random.rand(size))) / a\n",
    "    sin = np.sqrt(1 - cos**2)\n",
    "    D2x = sin * cos\n",
    "    D2y = sin * sin\n",
    "    D2z = cos\n",
    "    \n",
    "    output = []\n",
    "    for i in range(size):\n",
    "        output.append(f\"e- {E1[i]} 1.0 0 0, e- {E2[i]} {D2x[i]} {D2y[i]} {D2z[i]}\")\n",
    "    with open(f'dbd/dbd_products_{int(energy)}.dat', 'w') as file:\n",
    "        file.write('\\n'.join(output))"
   ]
  },
  {
   "cell_type": "code",
   "execution_count": 8,
   "id": "ac94dace-0644-415d-854a-69e05b595974",
   "metadata": {},
   "outputs": [],
   "source": [
    "for energy in range(3, 21):\n",
    "    simulate(energy, size=int(1e4))"
   ]
  },
  {
   "cell_type": "code",
   "execution_count": null,
   "id": "7eb9dedb-162e-4502-9218-26091262a10b",
   "metadata": {},
   "outputs": [],
   "source": []
  }
 ],
 "metadata": {
  "kernelspec": {
   "display_name": "Python [conda env:XENONnT_development] *",
   "language": "python",
   "name": "conda-env-XENONnT_development-py"
  },
  "language_info": {
   "codemirror_mode": {
    "name": "ipython",
    "version": 3
   },
   "file_extension": ".py",
   "mimetype": "text/x-python",
   "name": "python",
   "nbconvert_exporter": "python",
   "pygments_lexer": "ipython3",
   "version": "3.9.16"
  }
 },
 "nbformat": 4,
 "nbformat_minor": 5
}
