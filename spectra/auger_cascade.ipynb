{
 "cells": [
  {
   "cell_type": "code",
   "execution_count": 1,
   "id": "90a688b2-cc22-4993-a352-c3a0cdc359a9",
   "metadata": {},
   "outputs": [],
   "source": [
    "import numpy as np\n",
    "from auger import Auger"
   ]
  },
  {
   "cell_type": "code",
   "execution_count": 2,
   "id": "a859e4c4-20aa-449b-ac01-a24684f7a205",
   "metadata": {},
   "outputs": [],
   "source": [
    "ag = Auger()\n",
    "ag.vacancy_list = [1]\n",
    "products = ag.simulate()"
   ]
  },
  {
   "cell_type": "code",
   "execution_count": 3,
   "id": "5a817df9-fe87-4b9c-9ae8-9e6c3f4d6f43",
   "metadata": {},
   "outputs": [
    {
     "data": {
      "text/plain": [
       "[('gamma', 33629.4),\n",
       " ('e-', 101.06),\n",
       " ('e-', 539.9),\n",
       " ('e-', 12.42),\n",
       " ('e-', 46.53),\n",
       " ('e-', 20.56),\n",
       " ('e-', 45.86),\n",
       " ('e-', 44.47)]"
      ]
     },
     "execution_count": 3,
     "metadata": {},
     "output_type": "execute_result"
    }
   ],
   "source": [
    "products"
   ]
  }
 ],
 "metadata": {
  "kernelspec": {
   "display_name": "Python [conda env:XENONnT_development] *",
   "language": "python",
   "name": "conda-env-XENONnT_development-py"
  },
  "language_info": {
   "codemirror_mode": {
    "name": "ipython",
    "version": 3
   },
   "file_extension": ".py",
   "mimetype": "text/x-python",
   "name": "python",
   "nbconvert_exporter": "python",
   "pygments_lexer": "ipython3",
   "version": "3.9.16"
  }
 },
 "nbformat": 4,
 "nbformat_minor": 5
}
